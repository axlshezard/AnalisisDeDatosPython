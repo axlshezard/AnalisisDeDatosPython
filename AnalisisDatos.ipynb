{
 "cells": [
  {
   "cell_type": "code",
   "execution_count": 5,
   "metadata": {},
   "outputs": [],
   "source": [
    "import pandas as pd\n",
    "import numbers\n"
   ]
  },
  {
   "cell_type": "code",
   "execution_count": 9,
   "metadata": {},
   "outputs": [
    {
     "data": {
      "text/plain": [
       "(0    3\n",
       " 1    4\n",
       " 2    5\n",
       " 3    6\n",
       " 4    7\n",
       " dtype: int64,\n",
       " pandas.core.series.Series)"
      ]
     },
     "execution_count": 9,
     "metadata": {},
     "output_type": "execute_result"
    }
   ],
   "source": [
    "# Serie  = Estructura de Datos Unidimensional que ´puede contener caulquie tipo de dato\n",
    "# Data Frames = Estructuras de datos bidimensionales que contienen multiples columnas y dilas de datos\n",
    "#pueden ser creados apartir de listas, diccionarios o arrays de numpy\n",
    "# Series de Pandas\n",
    "numbers = [3, 4, 5, 6, 7]\n",
    "numbers,  type(numbers)\n",
    "serie = pd.Series(numbers)\n",
    "serie, type(serie)"
   ]
  },
  {
   "cell_type": "markdown",
   "metadata": {},
   "source": [
    "min 2 con 11 https://www.youtube.com/watch?v=0eTCNlCKYnY&list=PL5C9QKu8AsmUK_7AEP0hSmt-8vcE8gnIB&index=3\n"
   ]
  }
 ],
 "metadata": {
  "kernelspec": {
   "display_name": "datos",
   "language": "python",
   "name": "python3"
  },
  "language_info": {
   "codemirror_mode": {
    "name": "ipython",
    "version": 3
   },
   "file_extension": ".py",
   "mimetype": "text/x-python",
   "name": "python",
   "nbconvert_exporter": "python",
   "pygments_lexer": "ipython3",
   "version": "3.11.4"
  }
 },
 "nbformat": 4,
 "nbformat_minor": 2
}
